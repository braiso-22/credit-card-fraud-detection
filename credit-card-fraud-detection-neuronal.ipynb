{
 "cells": [
  {
   "attachments": {},
   "cell_type": "markdown",
   "metadata": {},
   "source": [
    "# Deteccion de fraude en tarjetas de credito con redes neuronales"
   ]
  },
  {
   "attachments": {},
   "cell_type": "markdown",
   "metadata": {},
   "source": [
    "## Imports"
   ]
  },
  {
   "cell_type": "code",
   "execution_count": 71,
   "metadata": {},
   "outputs": [],
   "source": [
    "import sys;\n",
    "assert sys.version_info >= (3, 5);\n",
    "import sklearn;\n",
    "assert sklearn.__version__ >= \"0.20\";\n",
    "import numpy as np;\n",
    "import math;\n",
    "import os;\n",
    "import matplotlib as mpl;\n",
    "import matplotlib.pyplot as plt;\n",
    "import pandas as pd;\n",
    "import seaborn as sns;\n",
    "from scipy import stats;\n",
    "from scipy.stats import norm;\n",
    "from sklearn.preprocessing import OneHotEncoder\n",
    "from sklearn.linear_model import LinearRegression\n",
    "from sklearn.metrics import mean_squared_error\n",
    "from sklearn.metrics import mean_absolute_error"
   ]
  },
  {
   "attachments": {},
   "cell_type": "markdown",
   "metadata": {},
   "source": [
    "## Carga de datos"
   ]
  },
  {
   "cell_type": "code",
   "execution_count": 72,
   "metadata": {},
   "outputs": [
    {
     "data": {
      "text/html": [
       "<div>\n",
       "<style scoped>\n",
       "    .dataframe tbody tr th:only-of-type {\n",
       "        vertical-align: middle;\n",
       "    }\n",
       "\n",
       "    .dataframe tbody tr th {\n",
       "        vertical-align: top;\n",
       "    }\n",
       "\n",
       "    .dataframe thead th {\n",
       "        text-align: right;\n",
       "    }\n",
       "</style>\n",
       "<table border=\"1\" class=\"dataframe\">\n",
       "  <thead>\n",
       "    <tr style=\"text-align: right;\">\n",
       "      <th></th>\n",
       "      <th>Time</th>\n",
       "      <th>V1</th>\n",
       "      <th>V2</th>\n",
       "      <th>V3</th>\n",
       "      <th>V4</th>\n",
       "      <th>V5</th>\n",
       "      <th>V6</th>\n",
       "      <th>V7</th>\n",
       "      <th>V8</th>\n",
       "      <th>V9</th>\n",
       "      <th>...</th>\n",
       "      <th>V21</th>\n",
       "      <th>V22</th>\n",
       "      <th>V23</th>\n",
       "      <th>V24</th>\n",
       "      <th>V25</th>\n",
       "      <th>V26</th>\n",
       "      <th>V27</th>\n",
       "      <th>V28</th>\n",
       "      <th>Amount</th>\n",
       "      <th>Class</th>\n",
       "    </tr>\n",
       "  </thead>\n",
       "  <tbody>\n",
       "    <tr>\n",
       "      <th>0</th>\n",
       "      <td>0.0</td>\n",
       "      <td>-1.359807</td>\n",
       "      <td>-0.072781</td>\n",
       "      <td>2.536347</td>\n",
       "      <td>1.378155</td>\n",
       "      <td>-0.338321</td>\n",
       "      <td>0.462388</td>\n",
       "      <td>0.239599</td>\n",
       "      <td>0.098698</td>\n",
       "      <td>0.363787</td>\n",
       "      <td>...</td>\n",
       "      <td>-0.018307</td>\n",
       "      <td>0.277838</td>\n",
       "      <td>-0.110474</td>\n",
       "      <td>0.066928</td>\n",
       "      <td>0.128539</td>\n",
       "      <td>-0.189115</td>\n",
       "      <td>0.133558</td>\n",
       "      <td>-0.021053</td>\n",
       "      <td>149.62</td>\n",
       "      <td>0</td>\n",
       "    </tr>\n",
       "    <tr>\n",
       "      <th>1</th>\n",
       "      <td>0.0</td>\n",
       "      <td>1.191857</td>\n",
       "      <td>0.266151</td>\n",
       "      <td>0.166480</td>\n",
       "      <td>0.448154</td>\n",
       "      <td>0.060018</td>\n",
       "      <td>-0.082361</td>\n",
       "      <td>-0.078803</td>\n",
       "      <td>0.085102</td>\n",
       "      <td>-0.255425</td>\n",
       "      <td>...</td>\n",
       "      <td>-0.225775</td>\n",
       "      <td>-0.638672</td>\n",
       "      <td>0.101288</td>\n",
       "      <td>-0.339846</td>\n",
       "      <td>0.167170</td>\n",
       "      <td>0.125895</td>\n",
       "      <td>-0.008983</td>\n",
       "      <td>0.014724</td>\n",
       "      <td>2.69</td>\n",
       "      <td>0</td>\n",
       "    </tr>\n",
       "    <tr>\n",
       "      <th>2</th>\n",
       "      <td>1.0</td>\n",
       "      <td>-1.358354</td>\n",
       "      <td>-1.340163</td>\n",
       "      <td>1.773209</td>\n",
       "      <td>0.379780</td>\n",
       "      <td>-0.503198</td>\n",
       "      <td>1.800499</td>\n",
       "      <td>0.791461</td>\n",
       "      <td>0.247676</td>\n",
       "      <td>-1.514654</td>\n",
       "      <td>...</td>\n",
       "      <td>0.247998</td>\n",
       "      <td>0.771679</td>\n",
       "      <td>0.909412</td>\n",
       "      <td>-0.689281</td>\n",
       "      <td>-0.327642</td>\n",
       "      <td>-0.139097</td>\n",
       "      <td>-0.055353</td>\n",
       "      <td>-0.059752</td>\n",
       "      <td>378.66</td>\n",
       "      <td>0</td>\n",
       "    </tr>\n",
       "    <tr>\n",
       "      <th>3</th>\n",
       "      <td>1.0</td>\n",
       "      <td>-0.966272</td>\n",
       "      <td>-0.185226</td>\n",
       "      <td>1.792993</td>\n",
       "      <td>-0.863291</td>\n",
       "      <td>-0.010309</td>\n",
       "      <td>1.247203</td>\n",
       "      <td>0.237609</td>\n",
       "      <td>0.377436</td>\n",
       "      <td>-1.387024</td>\n",
       "      <td>...</td>\n",
       "      <td>-0.108300</td>\n",
       "      <td>0.005274</td>\n",
       "      <td>-0.190321</td>\n",
       "      <td>-1.175575</td>\n",
       "      <td>0.647376</td>\n",
       "      <td>-0.221929</td>\n",
       "      <td>0.062723</td>\n",
       "      <td>0.061458</td>\n",
       "      <td>123.50</td>\n",
       "      <td>0</td>\n",
       "    </tr>\n",
       "    <tr>\n",
       "      <th>4</th>\n",
       "      <td>2.0</td>\n",
       "      <td>-1.158233</td>\n",
       "      <td>0.877737</td>\n",
       "      <td>1.548718</td>\n",
       "      <td>0.403034</td>\n",
       "      <td>-0.407193</td>\n",
       "      <td>0.095921</td>\n",
       "      <td>0.592941</td>\n",
       "      <td>-0.270533</td>\n",
       "      <td>0.817739</td>\n",
       "      <td>...</td>\n",
       "      <td>-0.009431</td>\n",
       "      <td>0.798278</td>\n",
       "      <td>-0.137458</td>\n",
       "      <td>0.141267</td>\n",
       "      <td>-0.206010</td>\n",
       "      <td>0.502292</td>\n",
       "      <td>0.219422</td>\n",
       "      <td>0.215153</td>\n",
       "      <td>69.99</td>\n",
       "      <td>0</td>\n",
       "    </tr>\n",
       "  </tbody>\n",
       "</table>\n",
       "<p>5 rows × 31 columns</p>\n",
       "</div>"
      ],
      "text/plain": [
       "   Time        V1        V2        V3        V4        V5        V6        V7  \\\n",
       "0   0.0 -1.359807 -0.072781  2.536347  1.378155 -0.338321  0.462388  0.239599   \n",
       "1   0.0  1.191857  0.266151  0.166480  0.448154  0.060018 -0.082361 -0.078803   \n",
       "2   1.0 -1.358354 -1.340163  1.773209  0.379780 -0.503198  1.800499  0.791461   \n",
       "3   1.0 -0.966272 -0.185226  1.792993 -0.863291 -0.010309  1.247203  0.237609   \n",
       "4   2.0 -1.158233  0.877737  1.548718  0.403034 -0.407193  0.095921  0.592941   \n",
       "\n",
       "         V8        V9  ...       V21       V22       V23       V24       V25  \\\n",
       "0  0.098698  0.363787  ... -0.018307  0.277838 -0.110474  0.066928  0.128539   \n",
       "1  0.085102 -0.255425  ... -0.225775 -0.638672  0.101288 -0.339846  0.167170   \n",
       "2  0.247676 -1.514654  ...  0.247998  0.771679  0.909412 -0.689281 -0.327642   \n",
       "3  0.377436 -1.387024  ... -0.108300  0.005274 -0.190321 -1.175575  0.647376   \n",
       "4 -0.270533  0.817739  ... -0.009431  0.798278 -0.137458  0.141267 -0.206010   \n",
       "\n",
       "        V26       V27       V28  Amount  Class  \n",
       "0 -0.189115  0.133558 -0.021053  149.62      0  \n",
       "1  0.125895 -0.008983  0.014724    2.69      0  \n",
       "2 -0.139097 -0.055353 -0.059752  378.66      0  \n",
       "3 -0.221929  0.062723  0.061458  123.50      0  \n",
       "4  0.502292  0.219422  0.215153   69.99      0  \n",
       "\n",
       "[5 rows x 31 columns]"
      ]
     },
     "execution_count": 72,
     "metadata": {},
     "output_type": "execute_result"
    }
   ],
   "source": [
    "# dataset from https://www.kaggle.com/datasets/mlg-ulb/creditcardfraud\n",
    "df = pd.read_csv(filepath_or_buffer=\"dataset/creditcard_sin_outliers.csv\")\n",
    "df = df.drop(columns=['Unnamed: 0'])\n",
    "df.head()"
   ]
  },
  {
   "attachments": {},
   "cell_type": "markdown",
   "metadata": {},
   "source": [
    "### Borrar lo sobrante"
   ]
  },
  {
   "cell_type": "code",
   "execution_count": 73,
   "metadata": {},
   "outputs": [],
   "source": [
    "df = df.drop(['Time'], axis=1)\n",
    "df = df.drop(['Amount'], axis=1)"
   ]
  },
  {
   "attachments": {},
   "cell_type": "markdown",
   "metadata": {},
   "source": [
    "## Generacion de datos para aumentar la cantidad de positivos"
   ]
  },
  {
   "cell_type": "code",
   "execution_count": 74,
   "metadata": {},
   "outputs": [
    {
     "name": "stdout",
     "output_type": "stream",
     "text": [
      "No Frauds 99.78 % of the dataset\n",
      "Frauds 0.22 % of the dataset\n"
     ]
    }
   ],
   "source": [
    "of_dataset = '% of the dataset'\n",
    "print('No Frauds', round(df['Class'].value_counts()[0]/len(df) * 100,2), of_dataset)\n",
    "print('Frauds', round(df['Class'].value_counts()[1]/len(df) * 100,2), of_dataset)"
   ]
  },
  {
   "attachments": {},
   "cell_type": "markdown",
   "metadata": {},
   "source": [
    "Como hay muy pocos datos de fraude, se generan datos sinteticos para aumentar la cantidad de positivos\n",
    "y mejorar el entrenamiento de la red neuronal."
   ]
  },
  {
   "cell_type": "code",
   "execution_count": 75,
   "metadata": {},
   "outputs": [],
   "source": [
    "fraudes = df[df['Class'] == 1].copy()\n",
    "no_fraudes = df[df['Class'] == 0].copy()\n",
    "\n",
    "no_fraudes = sklearn.utils.shuffle(no_fraudes)\n",
    "no_fraudes = no_fraudes.sample(len(fraudes)*10)\n",
    "df2 = pd.concat([fraudes, no_fraudes], axis=0)\n",
    "df2 = sklearn.utils.shuffle(df2)\n"
   ]
  },
  {
   "cell_type": "code",
   "execution_count": 76,
   "metadata": {},
   "outputs": [
    {
     "name": "stdout",
     "output_type": "stream",
     "text": [
      "No Frauds 90.91 % of the dataset\n",
      "Frauds 9.09 % of the dataset\n"
     ]
    }
   ],
   "source": [
    "print('No Frauds', round(df2['Class'].value_counts()[0]/len(df2) * 100,2), '% of the dataset')\n",
    "print('Frauds', round(df2['Class'].value_counts()[1]/len(df2) * 100,2), '% of the dataset')"
   ]
  },
  {
   "cell_type": "code",
   "execution_count": 77,
   "metadata": {},
   "outputs": [
    {
     "data": {
      "text/plain": [
       "(5412, 29)"
      ]
     },
     "execution_count": 77,
     "metadata": {},
     "output_type": "execute_result"
    }
   ],
   "source": [
    "df2.shape"
   ]
  },
  {
   "attachments": {},
   "cell_type": "markdown",
   "metadata": {},
   "source": [
    "## Separacion de datos de entrenamiento y test"
   ]
  },
  {
   "cell_type": "code",
   "execution_count": 78,
   "metadata": {},
   "outputs": [],
   "source": [
    "# make x_train and y_train a 80% of the dataset and test 20%\n",
    "x_train = df2.iloc[:int(len(df2)*0.8), :-1]\n",
    "y_train = df2.iloc[:int(len(df2)*0.8), -1]\n",
    "x_val = df2.iloc[int(len(df2)*0.8):int(len(df2)*0.9), :-1]\n",
    "y_val = df2.iloc[int(len(df2)*0.8):int(len(df2)*0.9), -1]\n",
    "x_test = df2.iloc[int(len(df2)*0.9):, :-1]\n",
    "y_test = df2.iloc[int(len(df2)*0.9):, -1]"
   ]
  },
  {
   "attachments": {},
   "cell_type": "markdown",
   "metadata": {},
   "source": [
    "## Creacion de la red neuronal"
   ]
  },
  {
   "cell_type": "code",
   "execution_count": 79,
   "metadata": {},
   "outputs": [
    {
     "name": "stdout",
     "output_type": "stream",
     "text": [
      "Model: \"sequential_3\"\n",
      "_________________________________________________________________\n",
      "Layer (type)                 Output Shape              Param #   \n",
      "=================================================================\n",
      "dense_7 (Dense)              (None, 28)                812       \n",
      "_________________________________________________________________\n",
      "dense_8 (Dense)              (None, 10)                290       \n",
      "_________________________________________________________________\n",
      "dense_9 (Dense)              (None, 1)                 11        \n",
      "=================================================================\n",
      "Total params: 1,113\n",
      "Trainable params: 1,113\n",
      "Non-trainable params: 0\n",
      "_________________________________________________________________\n"
     ]
    }
   ],
   "source": [
    "from keras.models import Sequential\n",
    "from keras.layers.core import Dense, Activation\n",
    "\n",
    "model = Sequential()\n",
    "model.add(Dense(28, activation='sigmoid', input_shape=(28,)))\n",
    "model.add(Dense(10, activation='sigmoid', input_shape=(29,)))\n",
    "model.add(Dense(1, activation='sigmoid'))\n",
    "model.summary()"
   ]
  },
  {
   "attachments": {},
   "cell_type": "markdown",
   "metadata": {},
   "source": [
    "## Entrenamiento"
   ]
  },
  {
   "cell_type": "code",
   "execution_count": 80,
   "metadata": {},
   "outputs": [],
   "source": [
    "model.compile(loss=\"binary_crossentropy\", optimizer=\"sgd\",metrics = ['accuracy'])"
   ]
  },
  {
   "cell_type": "code",
   "execution_count": 85,
   "metadata": {},
   "outputs": [
    {
     "name": "stdout",
     "output_type": "stream",
     "text": [
      "Train on 4329 samples, validate on 541 samples\n",
      "Epoch 1/50\n",
      "4329/4329 [==============================] - 0s 21us/step - loss: 0.1438 - accuracy: 0.9420 - val_loss: 0.1370 - val_accuracy: 0.9575\n",
      "Epoch 2/50\n",
      "4329/4329 [==============================] - 0s 27us/step - loss: 0.1411 - accuracy: 0.9496 - val_loss: 0.1348 - val_accuracy: 0.9612\n",
      "Epoch 3/50\n",
      "4329/4329 [==============================] - 0s 17us/step - loss: 0.1385 - accuracy: 0.9540 - val_loss: 0.1327 - val_accuracy: 0.9649\n",
      "Epoch 4/50\n",
      "4329/4329 [==============================] - 0s 18us/step - loss: 0.1360 - accuracy: 0.9573 - val_loss: 0.1306 - val_accuracy: 0.9686\n",
      "Epoch 5/50\n",
      "4329/4329 [==============================] - 0s 16us/step - loss: 0.1335 - accuracy: 0.9658 - val_loss: 0.1286 - val_accuracy: 0.9778\n",
      "Epoch 6/50\n",
      "4329/4329 [==============================] - 0s 16us/step - loss: 0.1311 - accuracy: 0.9730 - val_loss: 0.1267 - val_accuracy: 0.9778\n",
      "Epoch 7/50\n",
      "4329/4329 [==============================] - 0s 17us/step - loss: 0.1288 - accuracy: 0.9753 - val_loss: 0.1249 - val_accuracy: 0.9778\n",
      "Epoch 8/50\n",
      "4329/4329 [==============================] - 0s 16us/step - loss: 0.1266 - accuracy: 0.9767 - val_loss: 0.1230 - val_accuracy: 0.9778\n",
      "Epoch 9/50\n",
      "4329/4329 [==============================] - 0s 17us/step - loss: 0.1244 - accuracy: 0.9774 - val_loss: 0.1213 - val_accuracy: 0.9778\n",
      "Epoch 10/50\n",
      "4329/4329 [==============================] - 0s 16us/step - loss: 0.1224 - accuracy: 0.9778 - val_loss: 0.1196 - val_accuracy: 0.9778\n",
      "Epoch 11/50\n",
      "4329/4329 [==============================] - 0s 16us/step - loss: 0.1204 - accuracy: 0.9790 - val_loss: 0.1180 - val_accuracy: 0.9797\n",
      "Epoch 12/50\n",
      "4329/4329 [==============================] - 0s 16us/step - loss: 0.1184 - accuracy: 0.9794 - val_loss: 0.1164 - val_accuracy: 0.9797\n",
      "Epoch 13/50\n",
      "4329/4329 [==============================] - 0s 16us/step - loss: 0.1166 - accuracy: 0.9799 - val_loss: 0.1149 - val_accuracy: 0.9797\n",
      "Epoch 14/50\n",
      "4329/4329 [==============================] - 0s 16us/step - loss: 0.1147 - accuracy: 0.9808 - val_loss: 0.1134 - val_accuracy: 0.9797\n",
      "Epoch 15/50\n",
      "4329/4329 [==============================] - 0s 16us/step - loss: 0.1130 - accuracy: 0.9808 - val_loss: 0.1120 - val_accuracy: 0.9797\n",
      "Epoch 16/50\n",
      "4329/4329 [==============================] - 0s 17us/step - loss: 0.1113 - accuracy: 0.9811 - val_loss: 0.1106 - val_accuracy: 0.9797\n",
      "Epoch 17/50\n",
      "4329/4329 [==============================] - 0s 16us/step - loss: 0.1097 - accuracy: 0.9813 - val_loss: 0.1093 - val_accuracy: 0.9797\n",
      "Epoch 18/50\n",
      "4329/4329 [==============================] - 0s 17us/step - loss: 0.1082 - accuracy: 0.9813 - val_loss: 0.1081 - val_accuracy: 0.9797\n",
      "Epoch 19/50\n",
      "4329/4329 [==============================] - 0s 16us/step - loss: 0.1067 - accuracy: 0.9813 - val_loss: 0.1069 - val_accuracy: 0.9797\n",
      "Epoch 20/50\n",
      "4329/4329 [==============================] - 0s 15us/step - loss: 0.1052 - accuracy: 0.9813 - val_loss: 0.1057 - val_accuracy: 0.9797\n",
      "Epoch 21/50\n",
      "4329/4329 [==============================] - 0s 16us/step - loss: 0.1038 - accuracy: 0.9813 - val_loss: 0.1045 - val_accuracy: 0.9797\n",
      "Epoch 22/50\n",
      "4329/4329 [==============================] - 0s 16us/step - loss: 0.1025 - accuracy: 0.9813 - val_loss: 0.1034 - val_accuracy: 0.9797\n",
      "Epoch 23/50\n",
      "4329/4329 [==============================] - 0s 16us/step - loss: 0.1012 - accuracy: 0.9813 - val_loss: 0.1024 - val_accuracy: 0.9797\n",
      "Epoch 24/50\n",
      "4329/4329 [==============================] - 0s 16us/step - loss: 0.1000 - accuracy: 0.9813 - val_loss: 0.1014 - val_accuracy: 0.9797\n",
      "Epoch 25/50\n",
      "4329/4329 [==============================] - 0s 17us/step - loss: 0.0988 - accuracy: 0.9813 - val_loss: 0.1004 - val_accuracy: 0.9797\n",
      "Epoch 26/50\n",
      "4329/4329 [==============================] - 0s 16us/step - loss: 0.0976 - accuracy: 0.9815 - val_loss: 0.0994 - val_accuracy: 0.9797\n",
      "Epoch 27/50\n",
      "4329/4329 [==============================] - 0s 16us/step - loss: 0.0965 - accuracy: 0.9815 - val_loss: 0.0985 - val_accuracy: 0.9797\n",
      "Epoch 28/50\n",
      "4329/4329 [==============================] - 0s 17us/step - loss: 0.0954 - accuracy: 0.9815 - val_loss: 0.0977 - val_accuracy: 0.9797\n",
      "Epoch 29/50\n",
      "4329/4329 [==============================] - 0s 17us/step - loss: 0.0944 - accuracy: 0.9815 - val_loss: 0.0968 - val_accuracy: 0.9797\n",
      "Epoch 30/50\n",
      "4329/4329 [==============================] - 0s 19us/step - loss: 0.0934 - accuracy: 0.9815 - val_loss: 0.0960 - val_accuracy: 0.9797\n",
      "Epoch 31/50\n",
      "4329/4329 [==============================] - 0s 20us/step - loss: 0.0924 - accuracy: 0.9815 - val_loss: 0.0952 - val_accuracy: 0.9797\n",
      "Epoch 32/50\n",
      "4329/4329 [==============================] - 0s 19us/step - loss: 0.0915 - accuracy: 0.9818 - val_loss: 0.0945 - val_accuracy: 0.9797\n",
      "Epoch 33/50\n",
      "4329/4329 [==============================] - 0s 16us/step - loss: 0.0906 - accuracy: 0.9820 - val_loss: 0.0937 - val_accuracy: 0.9797\n",
      "Epoch 34/50\n",
      "4329/4329 [==============================] - 0s 23us/step - loss: 0.0897 - accuracy: 0.9820 - val_loss: 0.0930 - val_accuracy: 0.9797\n",
      "Epoch 35/50\n",
      "4329/4329 [==============================] - 0s 18us/step - loss: 0.0888 - accuracy: 0.9827 - val_loss: 0.0924 - val_accuracy: 0.9797\n",
      "Epoch 36/50\n",
      "4329/4329 [==============================] - 0s 16us/step - loss: 0.0880 - accuracy: 0.9827 - val_loss: 0.0917 - val_accuracy: 0.9815\n",
      "Epoch 37/50\n",
      "4329/4329 [==============================] - 0s 16us/step - loss: 0.0872 - accuracy: 0.9827 - val_loss: 0.0911 - val_accuracy: 0.9815\n",
      "Epoch 38/50\n",
      "4329/4329 [==============================] - 0s 16us/step - loss: 0.0865 - accuracy: 0.9827 - val_loss: 0.0905 - val_accuracy: 0.9815\n",
      "Epoch 39/50\n",
      "4329/4329 [==============================] - 0s 17us/step - loss: 0.0857 - accuracy: 0.9824 - val_loss: 0.0899 - val_accuracy: 0.9815\n",
      "Epoch 40/50\n",
      "4329/4329 [==============================] - 0s 16us/step - loss: 0.0850 - accuracy: 0.9824 - val_loss: 0.0893 - val_accuracy: 0.9815\n",
      "Epoch 41/50\n",
      "4329/4329 [==============================] - 0s 17us/step - loss: 0.0843 - accuracy: 0.9824 - val_loss: 0.0888 - val_accuracy: 0.9815\n",
      "Epoch 42/50\n",
      "4329/4329 [==============================] - 0s 17us/step - loss: 0.0837 - accuracy: 0.9827 - val_loss: 0.0882 - val_accuracy: 0.9815\n",
      "Epoch 43/50\n",
      "4329/4329 [==============================] - 0s 18us/step - loss: 0.0830 - accuracy: 0.9827 - val_loss: 0.0877 - val_accuracy: 0.9815\n",
      "Epoch 44/50\n",
      "4329/4329 [==============================] - 0s 18us/step - loss: 0.0824 - accuracy: 0.9827 - val_loss: 0.0872 - val_accuracy: 0.9815\n",
      "Epoch 45/50\n",
      "4329/4329 [==============================] - 0s 19us/step - loss: 0.0818 - accuracy: 0.9829 - val_loss: 0.0868 - val_accuracy: 0.9815\n",
      "Epoch 46/50\n",
      "4329/4329 [==============================] - 0s 17us/step - loss: 0.0812 - accuracy: 0.9829 - val_loss: 0.0863 - val_accuracy: 0.9815\n",
      "Epoch 47/50\n",
      "4329/4329 [==============================] - 0s 19us/step - loss: 0.0806 - accuracy: 0.9829 - val_loss: 0.0859 - val_accuracy: 0.9815\n",
      "Epoch 48/50\n",
      "4329/4329 [==============================] - 0s 16us/step - loss: 0.0801 - accuracy: 0.9829 - val_loss: 0.0854 - val_accuracy: 0.9815\n",
      "Epoch 49/50\n",
      "4329/4329 [==============================] - 0s 15us/step - loss: 0.0795 - accuracy: 0.9829 - val_loss: 0.0850 - val_accuracy: 0.9815\n",
      "Epoch 50/50\n",
      "4329/4329 [==============================] - 0s 17us/step - loss: 0.0790 - accuracy: 0.9829 - val_loss: 0.0846 - val_accuracy: 0.9815\n"
     ]
    },
    {
     "data": {
      "text/plain": [
       "<keras.callbacks.callbacks.History at 0x19e0b679f88>"
      ]
     },
     "execution_count": 85,
     "metadata": {},
     "output_type": "execute_result"
    }
   ],
   "source": [
    "model.fit(x_train, y_train, validation_data=(x_val,y_val), batch_size=50, epochs=50)"
   ]
  },
  {
   "cell_type": "code",
   "execution_count": 86,
   "metadata": {},
   "outputs": [
    {
     "name": "stdout",
     "output_type": "stream",
     "text": [
      "542/542 [==============================] - 0s 24us/step\n"
     ]
    }
   ],
   "source": [
    "test_loss, test_acc = model.evaluate(x_test, y_test)"
   ]
  },
  {
   "cell_type": "code",
   "execution_count": 87,
   "metadata": {},
   "outputs": [
    {
     "name": "stdout",
     "output_type": "stream",
     "text": [
      "[0 0 0 0 0 0 0 0 0 1 0 0 0 0 0 1 0 0 0 0 0 0 0 0 0 0 0 0 0 0 0 0 0 0 0 1 0\n",
      " 0 0 1 0 1 0 0 0 0 1 1 0 0 0 0 0 0 0 0 0 0 1 0 0 0 0 0 0 0 0 0 1 0 0 0 0 0\n",
      " 0 0 0 0 1 0 0 0 0 0 0 0 0 0 0 0 0 0 0 0 0 0 0 0 0 0 0 1 0 0 0 0 0 0 0 0 0\n",
      " 0 0 0 0 1 0 0 0 0 0 1 0 0 0 0 0 0 0 0 0 0 0 1 0 0 0 0 0 0 0 0 0 0 0 0 0 0\n",
      " 0 0 0 0 0 0 0 0 0 0 0 0 1 0 0 0 1 1 0 0 0 0 0 0 0 0 0 0 0 0 0 0 0 0 0 0 0\n",
      " 0 0 0 0 0 0 0 0 0 0 0 0 0 0 0 0 0 0 0 0 0 1 0 0 0 0 0 0 1 0 0 0 0 0 0 0 0\n",
      " 0 0 0 0 0 0 0 0 0 0 1 0 0 0 0 0 0 0 0 0 0 0 0 0 0 1 0 0 0 0 0 0 0 0 0 0 0\n",
      " 0 0 0 0 0 0 0 0 0 0 1 0 0 0 0 0 0 0 0 0 0 1 0 0 0 1 1 0 0 0 0 0 0 0 0 1 0\n",
      " 0 0 0 0 0 0 0 0 0 0 0 0 0 0 0 0 0 0 0 0 0 0 0 0 0 0 1 0 0 0 0 0 1 0 0 0 1\n",
      " 0 0 0 0 0 0 1 0 0 0 0 0 0 0 0 0 0 0 1 0 0 0 0 1 0 0 0 0 0 0 0 0 0 0 0 0 0\n",
      " 0 0 0 1 0 1 0 0 0 0 0 0 0 0 0 0 0 0 0 0 0 0 0 0 0 0 0 0 0 0 0 0 0 0 0 0 0\n",
      " 0 0 0 1 0 1 0 0 0 0 0 0 0 0 0 0 0 0 0 0 0 0 0 0 0 0 0 0 0 0 0 0 0 0 0 0 0\n",
      " 0 0 0 0 0 1 0 0 0 0 0 0 0 0 0 0 0 0 0 0 1 0 0 0 0 0 0 0 1 0 0 0 0 1 1 0 0\n",
      " 0 1 0 0 0 0 0 0 0 0 0 0 0 0 0 0 0 0 0 0 0 0 0 0 1 0 0 0 1 0 0 0 0 0 0 0 0\n",
      " 0 0 0 0 0 0 0 0 0 0 0 0 0 0 0 0 0 0 1 0 1 0 0 0]\n"
     ]
    }
   ],
   "source": [
    "from sklearn.metrics import confusion_matrix\n",
    "import numpy as np\n",
    "predictions = model.predict(x_test)\n",
    "\n",
    "Y_pred_classes = []\n",
    "for pred in predictions:\n",
    "    if pred > 0.5:\n",
    "        Y_pred_classes.append(1)\n",
    "    else:\n",
    "        Y_pred_classes.append(0)\n",
    "Y_pred_classes = np.array(Y_pred_classes)\n",
    "Y_true = y_test.values \n",
    "print(Y_true)\n",
    "confusion_mtx = confusion_matrix(Y_true, Y_pred_classes) \n",
    "confusion_mtx\n",
    "\n",
    "confusion_mtx_without_diagonal = confusion_mtx.copy()\n",
    "np.fill_diagonal(confusion_mtx_without_diagonal, 0)"
   ]
  },
  {
   "cell_type": "code",
   "execution_count": 89,
   "metadata": {},
   "outputs": [
    {
     "name": "stderr",
     "output_type": "stream",
     "text": [
      "c:\\Users\\brais.fernandezvazqu\\Miniconda3\\envs\\tf\\lib\\site-packages\\ipykernel_launcher.py:13: UserWarning: FixedFormatter should only be used together with FixedLocator\n",
      "  del sys.path[0]\n",
      "c:\\Users\\brais.fernandezvazqu\\Miniconda3\\envs\\tf\\lib\\site-packages\\ipykernel_launcher.py:26: UserWarning: FixedFormatter should only be used together with FixedLocator\n"
     ]
    },
    {
     "data": {
      "image/png": "[encoded data removed]",
      "text/plain": [
       "<Figure size 1400x700 with 2 Axes>"
      ]
     },
     "metadata": {},
     "output_type": "display_data"
    }
   ],
   "source": [
    "fig, ax = plt.subplots(1, 2, figsize=(10,10))\n",
    "# set size of the figure\n",
    "fig.set_size_inches(14, 7)\n",
    "# set title of the figure\n",
    "fig.suptitle('Confusion Matrix', fontsize=20)\n",
    "# plot the confusion matrix\n",
    "ax[0].set_title('Confusion Matrix')\n",
    "ax[0].imshow(confusion_mtx, cmap='Blues')\n",
    "ax[0].set_xlabel('Predicted')\n",
    "ax[0].set_ylabel('Actual')\n",
    "ax[0].set_xticks([0,1])\n",
    "ax[0].set_xticklabels(['No Fraude', 'Fraude'])\n",
    "ax[0].set_yticklabels(['No Fraude', 'Fraude'])\n",
    "ax[0].set_yticks([0,1])\n",
    "# print numbers in the confusion matrix\n",
    "for i in range(2):\n",
    "    for j in range(2):\n",
    "        ax[0].text(j, i, confusion_mtx[i, j], ha=\"center\", va=\"center\", color=\"r\")\n",
    "\n",
    "ax[1].set_title('Confusion Matrix without diagonal')\n",
    "ax[1].imshow(confusion_mtx_without_diagonal, cmap='Blues')\n",
    "ax[1].set_xlabel('Predicted')\n",
    "ax[1].set_ylabel('Actual')\n",
    "ax[1].set_xticks([0,1])\n",
    "ax[1].set_xticklabels(['No Fraude', 'Fraude'])\n",
    "ax[1].set_yticklabels(['No Fraude', 'Fraude'])\n",
    "ax[1].set_yticks([0,1])\n",
    "# print numbers in the confusion matrix\n",
    "for i in range(2):\n",
    "    for j in range(2):\n",
    "        ax[1].text(j, i, confusion_mtx_without_diagonal[i, j], ha=\"center\", va=\"center\", color=\"r\")"
   ]
  },
  {
   "cell_type": "code",
   "execution_count": null,
   "metadata": {},
   "outputs": [],
   "source": []
  }
 ],
 "metadata": {
  "kernelspec": {
   "display_name": "tf",
   "language": "python",
   "name": "python3"
  },
  "language_info": {
   "codemirror_mode": {
    "name": "ipython",
    "version": 3
   },
   "file_extension": ".py",
   "mimetype": "text/x-python",
   "name": "python",
   "nbconvert_exporter": "python",
   "pygments_lexer": "ipython3",
   "version": "3.7.12"
  },
  "orig_nbformat": 4
 },
 "nbformat": 4,
 "nbformat_minor": 2
}
